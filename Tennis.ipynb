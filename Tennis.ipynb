{
 "cells": [
  {
   "cell_type": "markdown",
   "metadata": {},
   "source": [
    "# Collaboration and Competition\n",
    "\n",
    "---\n",
    "\n",
    "In this notebook, you will learn how to use the Unity ML-Agents environment for the third project of the [Deep Reinforcement Learning Nanodegree](https://www.udacity.com/course/deep-reinforcement-learning-nanodegree--nd893) program.\n",
    "\n",
    "### 1. Start the Environment\n",
    "\n",
    "We begin by importing the necessary packages.  If the code cell below returns an error, please revisit the project instructions to double-check that you have installed [Unity ML-Agents](https://github.com/Unity-Technologies/ml-agents/blob/master/docs/Installation.md) and [NumPy](http://www.numpy.org/)."
   ]
  },
  {
   "cell_type": "code",
   "execution_count": 1,
   "metadata": {},
   "outputs": [],
   "source": [
    "from unityagents import UnityEnvironment\n",
    "import numpy as np"
   ]
  },
  {
   "cell_type": "markdown",
   "metadata": {},
   "source": [
    "Next, we will start the environment!  **_Before running the code cell below_**, change the `file_name` parameter to match the location of the Unity environment that you downloaded.\n",
    "\n",
    "- **Mac**: `\"path/to/Tennis.app\"`\n",
    "- **Windows** (x86): `\"path/to/Tennis_Windows_x86/Tennis.exe\"`\n",
    "- **Windows** (x86_64): `\"path/to/Tennis_Windows_x86_64/Tennis.exe\"`\n",
    "- **Linux** (x86): `\"path/to/Tennis_Linux/Tennis.x86\"`\n",
    "- **Linux** (x86_64): `\"path/to/Tennis_Linux/Tennis.x86_64\"`\n",
    "- **Linux** (x86, headless): `\"path/to/Tennis_Linux_NoVis/Tennis.x86\"`\n",
    "- **Linux** (x86_64, headless): `\"path/to/Tennis_Linux_NoVis/Tennis.x86_64\"`\n",
    "\n",
    "For instance, if you are using a Mac, then you downloaded `Tennis.app`.  If this file is in the same folder as the notebook, then the line below should appear as follows:\n",
    "```\n",
    "env = UnityEnvironment(file_name=\"Tennis.app\")\n",
    "```"
   ]
  },
  {
   "cell_type": "code",
   "execution_count": 2,
   "metadata": {},
   "outputs": [
    {
     "name": "stderr",
     "output_type": "stream",
     "text": [
      "INFO:unityagents:\n",
      "'Academy' started successfully!\n",
      "Unity Academy name: Academy\n",
      "        Number of Brains: 1\n",
      "        Number of External Brains : 1\n",
      "        Lesson number : 0\n",
      "        Reset Parameters :\n",
      "\t\t\n",
      "Unity brain name: TennisBrain\n",
      "        Number of Visual Observations (per agent): 0\n",
      "        Vector Observation space type: continuous\n",
      "        Vector Observation space size (per agent): 8\n",
      "        Number of stacked Vector Observation: 3\n",
      "        Vector Action space type: continuous\n",
      "        Vector Action space size (per agent): 2\n",
      "        Vector Action descriptions: , \n"
     ]
    }
   ],
   "source": [
    "env = UnityEnvironment(file_name=\"Tennis_Windows_x86_64/Tennis.exe\")"
   ]
  },
  {
   "cell_type": "markdown",
   "metadata": {},
   "source": [
    "Environments contain **_brains_** which are responsible for deciding the actions of their associated agents. Here we check for the first brain available, and set it as the default brain we will be controlling from Python."
   ]
  },
  {
   "cell_type": "code",
   "execution_count": 3,
   "metadata": {},
   "outputs": [],
   "source": [
    "# get the default brain\n",
    "brain_name = env.brain_names[0]\n",
    "brain = env.brains[brain_name]"
   ]
  },
  {
   "cell_type": "markdown",
   "metadata": {},
   "source": [
    "### 2. Examine the State and Action Spaces\n",
    "\n",
    "In this environment, two agents control rackets to bounce a ball over a net. If an agent hits the ball over the net, it receives a reward of +0.1.  If an agent lets a ball hit the ground or hits the ball out of bounds, it receives a reward of -0.01.  Thus, the goal of each agent is to keep the ball in play.\n",
    "\n",
    "The observation space consists of 8 variables corresponding to the position and velocity of the ball and racket. Two continuous actions are available, corresponding to movement toward (or away from) the net, and jumping. \n",
    "\n",
    "Run the code cell below to print some information about the environment."
   ]
  },
  {
   "cell_type": "code",
   "execution_count": 4,
   "metadata": {},
   "outputs": [
    {
     "name": "stdout",
     "output_type": "stream",
     "text": [
      "Number of agents: 2\n",
      "Size of each action: 2\n",
      "There are 2 agents. Each observes a state with length: 24\n",
      "The state for the first agent looks like: [ 0.          0.          0.          0.          0.          0.\n",
      "  0.          0.          0.          0.          0.          0.\n",
      "  0.          0.          0.          0.         -6.65278625 -1.5\n",
      " -0.          0.          6.83172083  6.         -0.          0.        ]\n"
     ]
    }
   ],
   "source": [
    "# reset the environment\n",
    "env_info = env.reset(train_mode=True)[brain_name]\n",
    "\n",
    "# number of agents \n",
    "num_agents = len(env_info.agents)\n",
    "print('Number of agents:', num_agents)\n",
    "\n",
    "# size of each action\n",
    "action_size = brain.vector_action_space_size\n",
    "print('Size of each action:', action_size)\n",
    "\n",
    "# examine the state space \n",
    "states = env_info.vector_observations\n",
    "state_size = states.shape[1]\n",
    "print('There are {} agents. Each observes a state with length: {}'.format(states.shape[0], state_size))\n",
    "print('The state for the first agent looks like:', states[0])"
   ]
  },
  {
   "cell_type": "markdown",
   "metadata": {},
   "source": [
    "### 3. Take Random Actions in the Environment\n",
    "\n",
    "In the next code cell, you will learn how to use the Python API to control the agents and receive feedback from the environment.\n",
    "\n",
    "Once this cell is executed, you will watch the agents' performance, if they select actions at random with each time step.  A window should pop up that allows you to observe the agents.\n",
    "\n",
    "Of course, as part of the project, you'll have to change the code so that the agents are able to use their experiences to gradually choose better actions when interacting with the environment!"
   ]
  },
  {
   "cell_type": "raw",
   "metadata": {},
   "source": [
    "for i in range(1, 6):                                      # play game for 5 episodes\n",
    "    env_info = env.reset(train_mode=False)[brain_name]     # reset the environment    \n",
    "    states = env_info.vector_observations                  # get the current state (for each agent)\n",
    "    scores = np.zeros(num_agents)                          # initialize the score (for each agent)\n",
    "    while True:\n",
    "        actions = np.random.randn(num_agents, action_size) # select an action (for each agent)\n",
    "        actions = np.clip(actions, -1, 1)                  # all actions between -1 and 1\n",
    "        env_info = env.step(actions)[brain_name]           # send all actions to tne environment\n",
    "        next_states = env_info.vector_observations         # get next state (for each agent)\n",
    "        rewards = env_info.rewards                         # get reward (for each agent)\n",
    "        dones = env_info.local_done                        # see if episode finished\n",
    "        scores += env_info.rewards                         # update the score (for each agent)\n",
    "        states = next_states                               # roll over states to next time step\n",
    "        if np.any(dones):                                  # exit loop if episode finished\n",
    "            break\n",
    "    print('Score (max over agents) from episode {}: {}'.format(i, np.max(scores)))"
   ]
  },
  {
   "cell_type": "markdown",
   "metadata": {},
   "source": [
    "When finished, you can close the environment."
   ]
  },
  {
   "cell_type": "raw",
   "metadata": {},
   "source": [
    "env.close()"
   ]
  },
  {
   "cell_type": "markdown",
   "metadata": {},
   "source": [
    "### 4. It's Your Turn!\n",
    "\n",
    "Now it's your turn to train your own agent to solve the environment!  When training the environment, set `train_mode=True`, so that the line for resetting the environment looks like the following:\n",
    "```python\n",
    "env_info = env.reset(train_mode=True)[brain_name]\n",
    "```"
   ]
  },
  {
   "cell_type": "code",
   "execution_count": 5,
   "metadata": {},
   "outputs": [],
   "source": [
    "from buffer import ReplayBuffer\n",
    "from maddpg import MADDPG\n",
    "import torch\n",
    "import numpy as np\n",
    "import os\n",
    "from utilities import transpose_list, transpose_to_tensor\n",
    "import imageio\n",
    "from collections import deque\n",
    "import progressbar as pb\n",
    "import matplotlib.pyplot as plt"
   ]
  },
  {
   "cell_type": "code",
   "execution_count": 6,
   "metadata": {},
   "outputs": [],
   "source": [
    "## Hyperparameters\n",
    "BUFFER_SIZE = int(1e6)               # max size of memory buffer\n",
    "N_EPISODES = 20000                   # number of training episodes\n",
    "EPISODE_MAX_T = 10000                # max timesteps each episode\n",
    "BATCH_SIZE = 1024                    # size of batch\n",
    "SAVE_INTERVAL = 1000                 # how many episodes to save policy\n",
    "HIDDEN_NETWORK = [256, 256, 128]     # Structure of the hidden layer of the networks\n",
    "LR_ACTOR = 1e-3                      # Learning rate of actor networks\n",
    "LR_CRITIC = 1e-3                     # Learning rate of critic networks\n",
    "ALLOW_BN = False                     # Allow Batch Normalization\n",
    "\n",
    "NOISE = 2                            # amplitude of OU noise\n",
    "NOISE_REDUCTION = 0.99995            # this slowly decreases to 0\n",
    "EPISODE_PER_UPDATE = 1               # how many episodes before update\n",
    "\n",
    "PRINT_EVERY = 100                    # how many episodes to print the medium scores\n",
    "MOVING_AVERAGE_WINDOW = 100          # Size of moving average window"
   ]
  },
  {
   "cell_type": "code",
   "execution_count": 7,
   "metadata": {},
   "outputs": [],
   "source": [
    "model_dir= os.getcwd()+\"/model_dir\"\n",
    "model_path = os.path.join(model_dir, 'checkpoint.pth')\n",
    "os.makedirs(model_dir, exist_ok=True)"
   ]
  },
  {
   "cell_type": "code",
   "execution_count": 8,
   "metadata": {},
   "outputs": [],
   "source": [
    "def seeding(seed=948):\n",
    "    np.random.seed(seed)\n",
    "    torch.manual_seed(seed)"
   ]
  },
  {
   "cell_type": "code",
   "execution_count": 9,
   "metadata": {},
   "outputs": [],
   "source": [
    "def reset_env(env, brain_name, train_mode, verbose = False):\n",
    "    # reset the environment\n",
    "    env_info = env.reset(train_mode=train_mode)[brain_name]\n",
    "    \n",
    "    if verbose:\n",
    "        # number of agents in the environment\n",
    "        print('Number of agents:', num_agents)\n",
    "        \n",
    "        # size of each action\n",
    "        print('Size of each action:', action_size)\n",
    "\n",
    "        # number of actions\n",
    "        action_size = brain.vector_action_space_size\n",
    "        print('Number of actions:', action_size)\n",
    "\n",
    "        # examine the state space \n",
    "        states = env_info.vector_observations\n",
    "        state_size = states[0].shape[1]\n",
    "        print('There are {} agents. Each observes a state with length: {}'.format(states.shape[0], state_size))\n",
    "        print('The state for the first agent looks like:', states[0])\n",
    "\n",
    "    return env_info"
   ]
  },
  {
   "cell_type": "code",
   "execution_count": 10,
   "metadata": {},
   "outputs": [],
   "source": [
    "def get_data_from_env_info(env_info):\n",
    "    states = env_info.vector_observations\n",
    "    rewards = env_info.rewards\n",
    "    dones = env_info.local_done\n",
    "    \n",
    "    return states, rewards, dones"
   ]
  },
  {
   "cell_type": "code",
   "execution_count": 11,
   "metadata": {},
   "outputs": [],
   "source": [
    "def plot_scores(scores, moving_average_window=MOVING_AVERAGE_WINDOW, goal_threshold=0.5):\n",
    "    moving_average = []\n",
    "    moving_average_deque = deque(maxlen=MOVING_AVERAGE_WINDOW)\n",
    "    for i in range(len(scores)):\n",
    "        moving_average_deque.append(scores[i])\n",
    "        moving_average.append(np.mean(moving_average_deque))\n",
    "    \n",
    "    goal_line_data = np.array([goal_threshold for i in np.arange(1, len(scores)+1)])\n",
    "    \n",
    "    fig = plt.figure()\n",
    "    ax = fig.add_subplot(111)\n",
    "    plt.bar(np.arange(1, len(scores)+1), scores, color='b', label='Scores')\n",
    "    plt.plot(np.arange(1, len(scores)+1), moving_average, color='r', label='Average (last 100)')\n",
    "    plt.plot(np.arange(1, len(scores)+1), goal_line_data, 'r--', label='Goal threshold') \n",
    "    \n",
    "    #Here we got little help from:\n",
    "    #https://stackoverflow.com/questions/4700614/how-to-put-the-legend-out-of-the-plot\n",
    "    plt.legend(loc='center left', bbox_to_anchor=(1, 0.5))\n",
    "    \n",
    "    plt.ylabel('Score')\n",
    "    plt.xlabel('Episode #')\n",
    "    plt.show()"
   ]
  },
  {
   "cell_type": "code",
   "execution_count": 12,
   "metadata": {},
   "outputs": [],
   "source": [
    "def watch_game(maddpg, n_episodes = 5, max_t = 200, random_seed = 0):\n",
    "    agents = maddpg.maddpg_agent\n",
    "    num_agents = len(agents)\n",
    "    \n",
    "    checkpoint = torch.load(model_path)\n",
    "    \n",
    "    # load the weights from files\n",
    "    for i in range(num_agents):\n",
    "        agents[i].actor.load_state_dict(checkpoint['agent_{}'.format(str(i+1))]['actor_params'])\n",
    "        agents[i].critic.load_state_dict(checkpoint['agent_{}'.format(str(i+1))]['critic_params'])\n",
    "    \n",
    "    for i_episode in range(n_episodes):\n",
    "        scores = np.zeros(num_agents)\n",
    "        \n",
    "        env_info = reset_env(env, brain_name, train_mode=False)\n",
    "        states, rewards, dones = get_data_from_env_info(env_info)\n",
    "        \n",
    "        for t in range(max_t):\n",
    "            actions = maddpg.act(states)\n",
    "            actions_array = torch.stack(actions).detach().cpu().numpy()\n",
    "            \n",
    "            env_info = env.step(actions_array)[brain_name]\n",
    "            states, rewards, dones = get_data_from_env_info(env_info)\n",
    "            scores += rewards\n",
    "            if np.any(dones):\n",
    "                break\n",
    "        \n",
    "        print(\"Episode {0} winner agent reward: {1}\".format(i_episode+1, max(scores)))"
   ]
  },
  {
   "cell_type": "code",
   "execution_count": 13,
   "metadata": {},
   "outputs": [],
   "source": [
    "def main(env, maddpg):\n",
    "    seeding()\n",
    "    \n",
    "    buffer = ReplayBuffer(BUFFER_SIZE, BATCH_SIZE, seed=1)\n",
    "    \n",
    "    episode_scores = []\n",
    "    episode_scores_deque = deque(maxlen=MOVING_AVERAGE_WINDOW)\n",
    "\n",
    "    # show progressbar\n",
    "    #widget = ['episode: ', pb.Counter(),'/',str(N_EPISODES),' ', \n",
    "    #          pb.Percentage(), ' ', pb.ETA(), ' ', pb.Bar(marker=pb.RotatingMarker()), ' ' ]\n",
    "    \n",
    "    #timer = pb.ProgressBar(widgets=widget, maxval=N_EPISODES).start()\n",
    "\n",
    "    noise = NOISE\n",
    "    \n",
    "    for episode in range(N_EPISODES):\n",
    "        reward_this_episode = np.zeros(2)\n",
    "\n",
    "        env_info = reset_env(env, brain_name, train_mode=True)\n",
    "        states, _0, _1 = get_data_from_env_info(env_info)\n",
    "        \n",
    "        save_info = ((episode+1) % SAVE_INTERVAL) == 0\n",
    "        \n",
    "        for episode_t in range(EPISODE_MAX_T):\n",
    "            actions = maddpg.act(states, noise=noise)\n",
    "            noise *= NOISE_REDUCTION\n",
    "            actions_array = torch.stack(actions).detach().cpu().numpy()\n",
    "            \n",
    "            env_info = env.step(actions_array)[brain_name]\n",
    "            \n",
    "            next_states, rewards, dones = get_data_from_env_info(env_info)\n",
    "            \n",
    "            states_full = np.concatenate([states[0], states[1]])\n",
    "            next_states_full = np.concatenate([next_states[0], next_states[1]])\n",
    "            \n",
    "            experience = (states, states_full, actions_array, rewards, next_states, next_states_full, dones)\n",
    "            buffer.add(*experience)\n",
    "            \n",
    "            reward_this_episode += rewards\n",
    "            \n",
    "            states, states_full = next_states, next_states_full\n",
    "        \n",
    "            if (np.any(dones)):\n",
    "                break\n",
    "                \n",
    "        # update once after every EPISODE_PER_UPDATE\n",
    "        if len(buffer) > BATCH_SIZE and (episode+1) % EPISODE_PER_UPDATE == 0:\n",
    "            for a_i in range(2):\n",
    "                samples = buffer.sample()\n",
    "                maddpg.update(samples, a_i)\n",
    "            maddpg.update_targets() #soft update the target network towards the actual networks\n",
    "\n",
    "        \n",
    "        efetive_episode_score = max(reward_this_episode[0], reward_this_episode[1])\n",
    "        episode_scores.append(efetive_episode_score)\n",
    "        episode_scores_deque.append(efetive_episode_score)\n",
    "        moving_average = np.mean(episode_scores_deque)\n",
    "        \n",
    "        if (episode+1) % PRINT_EVERY == 0 or episode == N_EPISODES-1:\n",
    "            print(\"Episode {0}\\t Moving average(last {1}): {2:.4f}\"\n",
    "                      .format(episode+1, MOVING_AVERAGE_WINDOW, moving_average, noise))\n",
    "            \n",
    "        #timer.update(episode)     \n",
    "\n",
    "        solved = False;\n",
    "        if moving_average >= 0.5:\n",
    "            solved = True\n",
    "            save_info = True\n",
    "            print(\"Solved in {0} episodes! Last moving average: {1}\"\n",
    "                 .format(episode+1, moving_average))\n",
    "            \n",
    "        #saving model\n",
    "        save_dict = { 'episodes': episode, 'agent_1': {}, 'agent_2': {} }\n",
    "        if save_info:\n",
    "            for i in range(2):\n",
    "                save_dict['agent_{}'.format(str(i+1))] = {\n",
    "                             'actor_params' : maddpg.maddpg_agent[i].actor.state_dict(),\n",
    "                             'actor_optim_params': maddpg.maddpg_agent[i].actor_optimizer.state_dict(),\n",
    "                             'critic_params' : maddpg.maddpg_agent[i].critic.state_dict(),\n",
    "                             'critic_optim_params' : maddpg.maddpg_agent[i].critic_optimizer.state_dict()}\n",
    "\n",
    "                torch.save(save_dict, \n",
    "                           model_path)\n",
    "                \n",
    "        if solved:\n",
    "            break;\n",
    "            \n",
    "    #timer.finish()\n",
    "    return episode_scores"
   ]
  },
  {
   "cell_type": "code",
   "execution_count": 14,
   "metadata": {},
   "outputs": [],
   "source": [
    "maddpg = MADDPG(\n",
    "    hidden_network=HIDDEN_NETWORK,\n",
    "    lr_actor=LR_ACTOR,\n",
    "    lr_critic=LR_CRITIC,\n",
    "    allow_bn=ALLOW_BN,\n",
    "    batch_size=BATCH_SIZE)"
   ]
  },
  {
   "cell_type": "code",
   "execution_count": 15,
   "metadata": {
    "scrolled": true
   },
   "outputs": [
    {
     "name": "stdout",
     "output_type": "stream",
     "text": [
      "Episode 100\t Moving average(last 100): 0.0060\n",
      "Episode 200\t Moving average(last 100): 0.0019\n",
      "Episode 300\t Moving average(last 100): 0.0027\n",
      "Episode 400\t Moving average(last 100): 0.0010\n",
      "Episode 500\t Moving average(last 100): 0.0039\n",
      "Episode 600\t Moving average(last 100): 0.0040\n",
      "Episode 700\t Moving average(last 100): 0.0199\n",
      "Episode 800\t Moving average(last 100): 0.0050\n",
      "Episode 900\t Moving average(last 100): 0.0069\n",
      "Episode 1000\t Moving average(last 100): 0.0150\n",
      "Episode 1100\t Moving average(last 100): 0.0280\n",
      "Episode 1200\t Moving average(last 100): 0.0330\n",
      "Episode 1300\t Moving average(last 100): 0.0240\n",
      "Episode 1400\t Moving average(last 100): 0.0110\n",
      "Episode 1500\t Moving average(last 100): 0.0240\n",
      "Episode 1600\t Moving average(last 100): 0.0350\n",
      "Episode 1700\t Moving average(last 100): 0.0480\n",
      "Episode 1800\t Moving average(last 100): 0.0490\n",
      "Episode 1900\t Moving average(last 100): 0.0450\n",
      "Episode 2000\t Moving average(last 100): 0.0675\n",
      "Episode 2100\t Moving average(last 100): 0.0739\n",
      "Episode 2200\t Moving average(last 100): 0.0698\n",
      "Episode 2300\t Moving average(last 100): 0.0852\n",
      "Episode 2400\t Moving average(last 100): 0.0846\n",
      "Episode 2500\t Moving average(last 100): 0.0720\n",
      "Episode 2600\t Moving average(last 100): 0.0400\n",
      "Episode 2700\t Moving average(last 100): 0.0539\n",
      "Episode 2800\t Moving average(last 100): 0.0560\n",
      "Episode 2900\t Moving average(last 100): 0.1216\n",
      "Episode 3000\t Moving average(last 100): 0.1356\n",
      "Episode 3100\t Moving average(last 100): 0.1442\n",
      "Episode 3200\t Moving average(last 100): 0.1858\n",
      "Episode 3300\t Moving average(last 100): 0.3527\n",
      "Episode 3400\t Moving average(last 100): 0.3590\n",
      "Solved in 3447 episodes! Last moving average: 0.5170000077039003\n"
     ]
    }
   ],
   "source": [
    "scores = main(env, maddpg)"
   ]
  },
  {
   "cell_type": "code",
   "execution_count": 16,
   "metadata": {},
   "outputs": [
    {
     "data": {
      "image/png": "[encoded data removed]",
      "text/plain": [
       "<Figure size 432x288 with 1 Axes>"
      ]
     },
     "metadata": {
      "needs_background": "light"
     },
     "output_type": "display_data"
    }
   ],
   "source": [
    "plot_scores(scores)"
   ]
  },
  {
   "cell_type": "code",
   "execution_count": 17,
   "metadata": {},
   "outputs": [
    {
     "name": "stdout",
     "output_type": "stream",
     "text": [
      "Episode 1 winner agent reward: 0.5000000074505806\n",
      "Episode 2 winner agent reward: 0.5000000074505806\n",
      "Episode 3 winner agent reward: 0.5000000074505806\n",
      "Episode 4 winner agent reward: 0.6000000089406967\n",
      "Episode 5 winner agent reward: 0.5000000074505806\n"
     ]
    }
   ],
   "source": [
    "watch_game(maddpg)"
   ]
  },
  {
   "cell_type": "code",
   "execution_count": 18,
   "metadata": {},
   "outputs": [],
   "source": [
    "env.close()"
   ]
  }
 ],
 "metadata": {
  "kernelspec": {
   "display_name": "drlnd",
   "language": "python",
   "name": "drlnd"
  },
  "language_info": {
   "codemirror_mode": {
    "name": "ipython",
    "version": 3
   },
   "file_extension": ".py",
   "mimetype": "text/x-python",
   "name": "python",
   "nbconvert_exporter": "python",
   "pygments_lexer": "ipython3",
   "version": "3.6.9"
  }
 },
 "nbformat": 4,
 "nbformat_minor": 2
}
